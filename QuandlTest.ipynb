{
 "cells": [
  {
   "cell_type": "code",
   "execution_count": 4,
   "metadata": {
    "collapsed": true
   },
   "outputs": [],
   "source": [
    "import quandl\n",
    "import pandas as pd \n",
    "quandl.ApiConfig.api_key = '6zm55WGxNxXzqAZUiSeM'"
   ]
  },
  {
   "cell_type": "code",
   "execution_count": 5,
   "metadata": {
    "collapsed": false
   },
   "outputs": [
    {
     "name": "stderr",
     "output_type": "stream",
     "text": [
      "/usr/local/lib/python2.7/dist-packages/requests/packages/urllib3/util/ssl_.py:334: SNIMissingWarning: An HTTPS request has been made, but the SNI (Subject Name Indication) extension to TLS is not available on this platform. This may cause the server to present an incorrect TLS certificate, which can cause validation failures. You can upgrade to a newer version of Python to solve this. For more information, see https://urllib3.readthedocs.io/en/latest/advanced-usage.html#ssl-warnings\n",
      "  SNIMissingWarning\n",
      "/usr/local/lib/python2.7/dist-packages/requests/packages/urllib3/util/ssl_.py:132: InsecurePlatformWarning: A true SSLContext object is not available. This prevents urllib3 from configuring SSL appropriately and may cause certain SSL connections to fail. You can upgrade to a newer version of Python to solve this. For more information, see https://urllib3.readthedocs.io/en/latest/advanced-usage.html#ssl-warnings\n",
      "  InsecurePlatformWarning\n"
     ]
    },
    {
     "name": "stdout",
     "output_type": "stream",
     "text": [
      "              Open      High       Low   Close      Volume  Ex-Dividend  \\\n",
      "Date                                                                      \n",
      "2016-10-03  128.38  129.0900  127.8000  128.77  13156943.0          0.0   \n",
      "2016-10-04  129.17  129.2765  127.5499  128.19  14307548.0          0.0   \n",
      "2016-10-05  128.25  128.8000  127.8300  128.47  12386753.0          0.0   \n",
      "2016-10-06  128.43  129.0600  128.0800  128.74  11682729.0          0.0   \n",
      "2016-10-07  129.04  129.2500  128.3300  128.99  12804420.0          0.0   \n",
      "\n",
      "            Split Ratio  Adj. Open  Adj. High  Adj. Low  Adj. Close  \\\n",
      "Date                                                                  \n",
      "2016-10-03          1.0     128.38   129.0900  127.8000      128.77   \n",
      "2016-10-04          1.0     129.17   129.2765  127.5499      128.19   \n",
      "2016-10-05          1.0     128.25   128.8000  127.8300      128.47   \n",
      "2016-10-06          1.0     128.43   129.0600  128.0800      128.74   \n",
      "2016-10-07          1.0     129.04   129.2500  128.3300      128.99   \n",
      "\n",
      "            Adj. Volume  \n",
      "Date                     \n",
      "2016-10-03   13156943.0  \n",
      "2016-10-04   14307548.0  \n",
      "2016-10-05   12386753.0  \n",
      "2016-10-06   11682729.0  \n",
      "2016-10-07   12804420.0  \n"
     ]
    }
   ],
   "source": [
    "data = quandl.get('WIKI/FB', start_date='2016-10-01', end_date='2016-11-01')\n",
    "print data.head()"
   ]
  },
  {
   "cell_type": "code",
   "execution_count": null,
   "metadata": {
    "collapsed": true
   },
   "outputs": [],
   "source": []
  }
 ],
 "metadata": {
  "kernelspec": {
   "display_name": "Python 2",
   "language": "python",
   "name": "python2"
  },
  "language_info": {
   "codemirror_mode": {
    "name": "ipython",
    "version": 2
   },
   "file_extension": ".py",
   "mimetype": "text/x-python",
   "name": "python",
   "nbconvert_exporter": "python",
   "pygments_lexer": "ipython2",
   "version": "2.7.6"
  }
 },
 "nbformat": 4,
 "nbformat_minor": 1
}
